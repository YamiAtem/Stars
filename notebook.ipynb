{
 "cells": [
  {
   "cell_type": "markdown",
   "source": [
    "# Stars"
   ],
   "metadata": {}
  },
  {
   "cell_type": "markdown",
   "source": [
    "## Project C131"
   ],
   "metadata": {}
  },
  {
   "cell_type": "markdown",
   "source": [
    "### Getting Data"
   ],
   "metadata": {}
  },
  {
   "cell_type": "code",
   "execution_count": 17,
   "source": [
    "import pandas\r\n",
    "\r\n",
    "stars_data_frame = pandas.read_csv(r'data\\final_data_cleaned.csv')\r\n",
    "stars_data_frame.drop(['Unnamed: 0'], axis=1, inplace=True)\r\n",
    "stars_data_frame['Radius'] = stars_data_frame['Radius'].apply(\r\n",
    "    lambda x: x.replace('$', '').replace(',', '')).astype('float')\r\n"
   ],
   "outputs": [],
   "metadata": {}
  },
  {
   "cell_type": "markdown",
   "source": [
    "### Converting Solar Mass and Radius into KM & KG"
   ],
   "metadata": {}
  },
  {
   "cell_type": "code",
   "execution_count": 18,
   "source": [
    "radius = stars_data_frame['Radius'].to_list()\r\n",
    "mass = stars_data_frame['Mass'].to_list()\r\n",
    "gravity = []\r\n",
    "\r\n",
    "\r\n",
    "def convert_to_si(radius, mass):\r\n",
    "    for i in range(0, len(radius)-1):\r\n",
    "        radius[i] = radius[i] * 6.957e+8\r\n",
    "        mass[i] = mass[i] * 1.989e+30\r\n",
    "\r\n",
    "\r\n",
    "convert_to_si(radius, mass)\r\n"
   ],
   "outputs": [],
   "metadata": {}
  },
  {
   "cell_type": "markdown",
   "source": [
    "### Calculating Gravity"
   ],
   "metadata": {}
  },
  {
   "cell_type": "code",
   "execution_count": 19,
   "source": [
    "def gravity_calculation(radius, mass):\r\n",
    "    G = 6.674e-11\r\n",
    "    for index in range(0, len(mass)):\r\n",
    "        g = (mass[index] * G) / ((radius[index]) ** 2)\r\n",
    "        gravity.append(g)\r\n",
    "\r\n",
    "\r\n",
    "gravity_calculation(radius, mass)\r\n",
    "\r\n",
    "stars_data_frame[\"Gravity\"] = gravity\r\n",
    "stars_data_frame.to_csv(\"data/stars_with_gravity.csv\")\r\n"
   ],
   "outputs": [],
   "metadata": {}
  },
  {
   "cell_type": "markdown",
   "source": [
    "## Project C132"
   ],
   "metadata": {}
  },
  {
   "cell_type": "markdown",
   "source": [
    "### Getting Data"
   ],
   "metadata": {}
  },
  {
   "cell_type": "code",
   "execution_count": 20,
   "source": [
    "import pandas\r\n",
    "import matplotlib.pyplot as plt\r\n",
    "%matplotlib inline\r\n",
    "\r\n",
    "gravity_stars_data_frame = pandas.read_csv(\"data/stars_with_gravity.csv\")\r\n",
    "\r\n",
    "mass = gravity_stars_data_frame[\"Mass\"].to_list()\r\n",
    "radius = gravity_stars_data_frame[\"Radius\"].to_list()\r\n",
    "distance = gravity_stars_data_frame[\"Distance\"].to_list()\r\n",
    "gravity = gravity_stars_data_frame[\"Gravity\"].to_list()\r\n",
    "\r\n",
    "mass.sort()\r\n",
    "radius.sort()\r\n",
    "gravity.sort()\r\n"
   ],
   "outputs": [],
   "metadata": {}
  },
  {
   "cell_type": "markdown",
   "source": [
    "### Mass vs Radius"
   ],
   "metadata": {}
  },
  {
   "cell_type": "code",
   "execution_count": 21,
   "source": [
    "plt.plot(radius, mass)\r\n",
    "\r\n",
    "plt.title(\"Radius vs Mass\")\r\n",
    "plt.xlabel(\"Radius\")\r\n",
    "plt.ylabel(\"Mass\")\r\n",
    "plt.show()\r\n"
   ],
   "outputs": [
    {
     "output_type": "display_data",
     "data": {
      "text/plain": [
       "<Figure size 432x288 with 1 Axes>"
      ],
      "image/png": "[encoded data removed]"
     },
     "metadata": {
      "needs_background": "light"
     }
    }
   ],
   "metadata": {}
  },
  {
   "cell_type": "markdown",
   "source": [
    "### Mass vs Gravity"
   ],
   "metadata": {}
  },
  {
   "cell_type": "code",
   "execution_count": null,
   "source": [
    "plt.plot(mass,gravity)\r\n",
    "\r\n",
    "plt.title(\"Mass vs Gravity\")\r\n",
    "plt.xlabel(\"Mass\")\r\n",
    "plt.ylabel(\"Gravity\")\r\n",
    "plt.show()"
   ],
   "outputs": [],
   "metadata": {}
  }
 ],
 "metadata": {
  "orig_nbformat": 4,
  "language_info": {
   "name": "python",
   "version": "3.9.6",
   "mimetype": "text/x-python",
   "codemirror_mode": {
    "name": "ipython",
    "version": 3
   },
   "pygments_lexer": "ipython3",
   "nbconvert_exporter": "python",
   "file_extension": ".py"
  },
  "kernelspec": {
   "name": "python3",
   "display_name": "Python 3.9.6 64-bit"
  },
  "interpreter": {
   "hash": "2647ea34e536f865ab67ff9ddee7fd78773d956cec0cab53c79b32cd10da5d83"
  }
 },
 "nbformat": 4,
 "nbformat_minor": 2
}